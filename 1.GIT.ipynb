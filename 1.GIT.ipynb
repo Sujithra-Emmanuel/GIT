{
 "cells": [
  {
   "cell_type": "code",
   "execution_count": 23,
   "id": "ac2a5acd-e4cf-4ffb-a440-5997384726ca",
   "metadata": {},
   "outputs": [
    {
     "name": "stdout",
     "output_type": "stream",
     "text": [
      "git version 2.46.0\n"
     ]
    }
   ],
   "source": [
    "!git --version"
   ]
  },
  {
   "cell_type": "code",
   "execution_count": 24,
   "id": "c2b55a41-ea14-4049-a21f-25e5663f407d",
   "metadata": {},
   "outputs": [
    {
     "name": "stdout",
     "output_type": "stream",
     "text": [
      "On branch V1\n",
      "Your branch is up to date with 'origin/V1'.\n",
      "\n",
      "nothing to commit, working tree clean\n"
     ]
    }
   ],
   "source": [
    "!git status"
   ]
  },
  {
   "cell_type": "code",
   "execution_count": 25,
   "id": "08748784-b3a3-4ebb-8983-fcd87311e7d4",
   "metadata": {},
   "outputs": [],
   "source": [
    "!git status --short"
   ]
  },
  {
   "cell_type": "code",
   "execution_count": 26,
   "id": "c2b71e58-9837-4250-b3d0-7a0b879e6012",
   "metadata": {},
   "outputs": [
    {
     "name": "stdout",
     "output_type": "stream",
     "text": [
      "\u001b[33mcommit 87a76deb8151dd80b28a76da671f6d2228e22b91\u001b[m\u001b[33m (\u001b[m\u001b[1;36mHEAD\u001b[m\u001b[33m -> \u001b[m\u001b[1;32mV1\u001b[m\u001b[33m, \u001b[m\u001b[1;31morigin/main\u001b[m\u001b[33m, \u001b[m\u001b[1;31morigin/V1\u001b[m\u001b[33m, \u001b[m\u001b[1;31morigin/HEAD\u001b[m\u001b[33m, \u001b[m\u001b[1;32mmain\u001b[m\u001b[33m)\u001b[m\n",
      "Author: Sujithra Emmanuel <sujimohanemmanuel@gmail.com>\n",
      "Date:   Wed Oct 23 00:04:26 2024 -0400\n",
      "\n",
      "    sujithra\n",
      "\n",
      "\u001b[33mcommit eabf180874c96621cf555378c29570b481c3e514\u001b[m\n",
      "Author: Sujithra Emmanuel <sujimohanemmanuel@gmail.com>\n",
      "Date:   Tue Oct 22 23:37:52 2024 -0400\n",
      "\n",
      "    sujithra\n",
      "\n",
      "\u001b[33mcommit b813d76f1d1b62801ad181695ce9c18613f482df\u001b[m\n",
      "Author: Sujithra-Emmanuel <sujimohanemmanuel@gmail.com>\n",
      "Date:   Tue Oct 22 17:44:37 2024 -0400\n",
      "\n",
      "    Initial commit\n"
     ]
    }
   ],
   "source": [
    "!git log"
   ]
  },
  {
   "cell_type": "code",
   "execution_count": 27,
   "id": "a199eabd-64e6-4afe-8292-12fc2cec882a",
   "metadata": {},
   "outputs": [
    {
     "name": "stdout",
     "output_type": "stream",
     "text": [
      "See 'git help <command>' to read about a specific subcommand\n",
      "\n",
      "Main Porcelain Commands\n",
      "   add                     Add file contents to the index\n",
      "   am                      Apply a series of patches from a mailbox\n",
      "   archive                 Create an archive of files from a named tree\n",
      "   bisect                  Use binary search to find the commit that introduced a bug\n",
      "   branch                  List, create, or delete branches\n",
      "   bundle                  Move objects and refs by archive\n",
      "   checkout                Switch branches or restore working tree files\n",
      "   cherry-pick             Apply the changes introduced by some existing commits\n",
      "   citool                  Graphical alternative to git-commit\n",
      "   clean                   Remove untracked files from the working tree\n",
      "   clone                   Clone a repository into a new directory\n",
      "   commit                  Record changes to the repository\n",
      "   describe                Give an object a human readable name based on an available ref\n",
      "   diff                    Show changes between commits, commit and working tree, etc\n",
      "   fetch                   Download objects and refs from another repository\n",
      "   format-patch            Prepare patches for e-mail submission\n",
      "   gc                      Cleanup unnecessary files and optimize the local repository\n",
      "   gitk                    The Git repository browser\n",
      "   grep                    Print lines matching a pattern\n",
      "   gui                     A portable graphical interface to Git\n",
      "   init                    Create an empty Git repository or reinitialize an existing one\n",
      "   log                     Show commit logs\n",
      "   maintenance             Run tasks to optimize Git repository data\n",
      "   merge                   Join two or more development histories together\n",
      "   mv                      Move or rename a file, a directory, or a symlink\n",
      "   notes                   Add or inspect object notes\n",
      "   pull                    Fetch from and integrate with another repository or a local branch\n",
      "   push                    Update remote refs along with associated objects\n",
      "   range-diff              Compare two commit ranges (e.g. two versions of a branch)\n",
      "   rebase                  Reapply commits on top of another base tip\n",
      "   reset                   Reset current HEAD to the specified state\n",
      "   restore                 Restore working tree files\n",
      "   revert                  Revert some existing commits\n",
      "   rm                      Remove files from the working tree and from the index\n",
      "   scalar                  A tool for managing large Git repositories\n",
      "   shortlog                Summarize 'git log' output\n",
      "   show                    Show various types of objects\n",
      "   sparse-checkout         Reduce your working tree to a subset of tracked files\n",
      "   stash                   Stash the changes in a dirty working directory away\n",
      "   status                  Show the working tree status\n",
      "   submodule               Initialize, update or inspect submodules\n",
      "   switch                  Switch branches\n",
      "   tag                     Create, list, delete or verify a tag object signed with GPG\n",
      "   worktree                Manage multiple working trees\n",
      "\n",
      "Ancillary Commands / Manipulators\n",
      "   config                  Get and set repository or global options\n",
      "   fast-export             Git data exporter\n",
      "   fast-import             Backend for fast Git data importers\n",
      "   filter-branch           Rewrite branches\n",
      "   mergetool               Run merge conflict resolution tools to resolve merge conflicts\n",
      "   pack-refs               Pack heads and tags for efficient repository access\n",
      "   prune                   Prune all unreachable objects from the object database\n",
      "   reflog                  Manage reflog information\n",
      "   refs                    Low-level access to refs\n",
      "   remote                  Manage set of tracked repositories\n",
      "   repack                  Pack unpacked objects in a repository\n",
      "   replace                 Create, list, delete refs to replace objects\n",
      "\n",
      "Ancillary Commands / Interrogators\n",
      "   annotate                Annotate file lines with commit information\n",
      "   blame                   Show what revision and author last modified each line of a file\n",
      "   bugreport               Collect information for user to file a bug report\n",
      "   count-objects           Count unpacked number of objects and their disk consumption\n",
      "   diagnose                Generate a zip archive of diagnostic information\n",
      "   difftool                Show changes using common diff tools\n",
      "   fsck                    Verifies the connectivity and validity of the objects in the database\n",
      "   gitweb                  Git web interface (web frontend to Git repositories)\n",
      "   help                    Display help information about Git\n",
      "   instaweb                Instantly browse your working repository in gitweb\n",
      "   merge-tree              Perform merge without touching index or working tree\n",
      "   rerere                  Reuse recorded resolution of conflicted merges\n",
      "   show-branch             Show branches and their commits\n",
      "   verify-commit           Check the GPG signature of commits\n",
      "   verify-tag              Check the GPG signature of tags\n",
      "   version                 Display version information about Git\n",
      "   whatchanged             Show logs with differences each commit introduces\n",
      "\n",
      "Interacting with Others\n",
      "   archimport              Import a GNU Arch repository into Git\n",
      "   cvsexportcommit         Export a single commit to a CVS checkout\n",
      "   cvsimport               Salvage your data out of another SCM people love to hate\n",
      "   cvsserver               A CVS server emulator for Git\n",
      "   imap-send               Send a collection of patches from stdin to an IMAP folder\n",
      "   p4                      Import from and submit to Perforce repositories\n",
      "   quiltimport             Applies a quilt patchset onto the current branch\n",
      "   request-pull            Generates a summary of pending changes\n",
      "   send-email              Send a collection of patches as emails\n",
      "   svn                     Bidirectional operation between a Subversion repository and Git\n",
      "\n",
      "Low-level Commands / Manipulators\n",
      "   apply                   Apply a patch to files and/or to the index\n",
      "   checkout-index          Copy files from the index to the working tree\n",
      "   commit-graph            Write and verify Git commit-graph files\n",
      "   commit-tree             Create a new commit object\n",
      "   hash-object             Compute object ID and optionally create an object from a file\n",
      "   index-pack              Build pack index file for an existing packed archive\n",
      "   merge-file              Run a three-way file merge\n",
      "   merge-index             Run a merge for files needing merging\n",
      "   mktag                   Creates a tag object with extra validation\n",
      "   mktree                  Build a tree-object from ls-tree formatted text\n",
      "   multi-pack-index        Write and verify multi-pack-indexes\n",
      "   pack-objects            Create a packed archive of objects\n",
      "   prune-packed            Remove extra objects that are already in pack files\n",
      "   read-tree               Reads tree information into the index\n",
      "   replay                  EXPERIMENTAL: Replay commits on a new base, works with bare repos too\n",
      "   symbolic-ref            Read, modify and delete symbolic refs\n",
      "   unpack-objects          Unpack objects from a packed archive\n",
      "   update-index            Register file contents in the working tree to the index\n",
      "   update-ref              Update the object name stored in a ref safely\n",
      "   write-tree              Create a tree object from the current index\n",
      "\n",
      "Low-level Commands / Interrogators\n",
      "   cat-file                Provide contents or details of repository objects\n",
      "   cherry                  Find commits yet to be applied to upstream\n",
      "   diff-files              Compares files in the working tree and the index\n",
      "   diff-index              Compare a tree to the working tree or index\n",
      "   diff-tree               Compares the content and mode of blobs found via two tree objects\n",
      "   for-each-ref            Output information on each ref\n",
      "   for-each-repo           Run a Git command on a list of repositories\n",
      "   get-tar-commit-id       Extract commit ID from an archive created using git-archive\n",
      "   ls-files                Show information about files in the index and the working tree\n",
      "   ls-remote               List references in a remote repository\n",
      "   ls-tree                 List the contents of a tree object\n",
      "   merge-base              Find as good common ancestors as possible for a merge\n",
      "   name-rev                Find symbolic names for given revs\n",
      "   pack-redundant          Find redundant pack files\n",
      "   rev-list                Lists commit objects in reverse chronological order\n",
      "   rev-parse               Pick out and massage parameters\n",
      "   show-index              Show packed archive index\n",
      "   show-ref                List references in a local repository\n",
      "   unpack-file             Creates a temporary file with a blob's contents\n",
      "   var                     Show a Git logical variable\n",
      "   verify-pack             Validate packed Git archive files\n",
      "\n",
      "Low-level Commands / Syncing Repositories\n",
      "   daemon                  A really simple server for Git repositories\n",
      "   fetch-pack              Receive missing objects from another repository\n",
      "   http-backend            Server side implementation of Git over HTTP\n",
      "   send-pack               Push objects over Git protocol to another repository\n",
      "   update-server-info      Update auxiliary info file to help dumb servers\n",
      "\n",
      "Low-level Commands / Internal Helpers\n",
      "   check-attr              Display gitattributes information\n",
      "   check-ignore            Debug gitignore / exclude files\n",
      "   check-mailmap           Show canonical names and email addresses of contacts\n",
      "   check-ref-format        Ensures that a reference name is well formed\n",
      "   column                  Display data in columns\n",
      "   credential              Retrieve and store user credentials\n",
      "   credential-cache        Helper to temporarily store passwords in memory\n",
      "   credential-store        Helper to store credentials on disk\n",
      "   fmt-merge-msg           Produce a merge commit message\n",
      "   hook                    Run git hooks\n",
      "   interpret-trailers      Add or parse structured information in commit messages\n",
      "   mailinfo                Extracts patch and authorship from a single e-mail message\n",
      "   mailsplit               Simple UNIX mbox splitter program\n",
      "   merge-one-file          The standard helper program to use with git-merge-index\n",
      "   patch-id                Compute unique ID for a patch\n",
      "   sh-i18n                 Git's i18n setup code for shell scripts\n",
      "   sh-setup                Common Git shell script setup code\n",
      "   stripspace              Remove unnecessary whitespace\n",
      "\n",
      "User-facing repository, command and file interfaces\n",
      "   attributes              Defining attributes per path\n",
      "   cli                     Git command-line interface and conventions\n",
      "   hooks                   Hooks used by Git\n",
      "   ignore                  Specifies intentionally untracked files to ignore\n",
      "   mailmap                 Map author/committer names and/or E-Mail addresses\n",
      "   modules                 Defining submodule properties\n",
      "   repository-layout       Git Repository Layout\n",
      "   revisions               Specifying revisions and ranges for Git\n",
      "\n",
      "Developer-facing file formats, protocols and other interfaces\n",
      "   format-bundle           The bundle file format\n",
      "   format-chunk            Chunk-based file formats\n",
      "   format-commit-graph     Git commit-graph format\n",
      "   format-index            Git index format\n",
      "   format-pack             Git pack format\n",
      "   format-signature        Git cryptographic signature formats\n",
      "   protocol-capabilities   Protocol v0 and v1 capabilities\n",
      "   protocol-common         Things common to various protocols\n",
      "   protocol-http           Git HTTP-based protocols\n",
      "   protocol-pack           How packs are transferred over-the-wire\n",
      "   protocol-v2             Git Wire Protocol, Version 2\n"
     ]
    }
   ],
   "source": [
    "!git help --all"
   ]
  },
  {
   "cell_type": "code",
   "execution_count": 28,
   "id": "aa3160da-58bd-46ae-bbec-43516c911b47",
   "metadata": {},
   "outputs": [
    {
     "name": "stdout",
     "output_type": "stream",
     "text": [
      "usage: git commit [-a | --interactive | --patch] [-s] [-v] [-u<mode>] [--amend]\n",
      "                  [--dry-run] [(-c | -C | --squash) <commit> | --fixup [(amend|reword):]<commit>)]\n",
      "                  [-F <file> | -m <msg>] [--reset-author] [--allow-empty]\n",
      "                  [--allow-empty-message] [--no-verify] [-e] [--author=<author>]\n",
      "                  [--date=<date>] [--cleanup=<mode>] [--[no-]status]\n",
      "                  [-i | -o] [--pathspec-from-file=<file> [--pathspec-file-nul]]\n",
      "                  [(--trailer <token>[(=|:)<value>])...] [-S[<keyid>]]\n",
      "                  [--] [<pathspec>...]\n",
      "\n",
      "    -q, --[no-]quiet      suppress summary after successful commit\n",
      "    -v, --[no-]verbose    show diff in commit message template\n",
      "\n",
      "Commit message options\n",
      "    -F, --[no-]file <file>\n",
      "                          read message from file\n",
      "    --[no-]author <author>\n",
      "                          override author for commit\n",
      "    --[no-]date <date>    override date for commit\n",
      "    -m, --[no-]message <message>\n",
      "                          commit message\n",
      "    -c, --[no-]reedit-message <commit>\n",
      "                          reuse and edit message from specified commit\n",
      "    -C, --[no-]reuse-message <commit>\n",
      "                          reuse message from specified commit\n",
      "    --[no-]fixup [(amend|reword):]commit\n",
      "                          use autosquash formatted message to fixup or amend/reword specified commit\n",
      "    --[no-]squash <commit>\n",
      "                          use autosquash formatted message to squash specified commit\n",
      "    --[no-]reset-author   the commit is authored by me now (used with -C/-c/--amend)\n",
      "    --trailer <trailer>   add custom trailer(s)\n",
      "    -s, --[no-]signoff    add a Signed-off-by trailer\n",
      "    -t, --[no-]template <file>\n",
      "                          use specified template file\n",
      "    -e, --[no-]edit       force edit of commit\n",
      "    --[no-]cleanup <mode> how to strip spaces and #comments from message\n",
      "    --[no-]status         include status in commit message template\n",
      "    -S, --[no-]gpg-sign[=<key-id>]\n",
      "                          GPG sign commit\n",
      "\n",
      "Commit contents options\n",
      "    -a, --[no-]all        commit all changed files\n",
      "    -i, --[no-]include    add specified files to index for commit\n",
      "    --[no-]interactive    interactively add files\n",
      "    -p, --[no-]patch      interactively add changes\n",
      "    -o, --[no-]only       commit only specified files\n",
      "    -n, --no-verify       bypass pre-commit and commit-msg hooks\n",
      "    --verify              opposite of --no-verify\n",
      "    --[no-]dry-run        show what would be committed\n",
      "    --[no-]short          show status concisely\n",
      "    --[no-]branch         show branch information\n",
      "    --[no-]ahead-behind   compute full ahead/behind values\n",
      "    --[no-]porcelain      machine-readable output\n",
      "    --[no-]long           show status in long format (default)\n",
      "    -z, --[no-]null       terminate entries with NUL\n",
      "    --[no-]amend          amend previous commit\n",
      "    --no-post-rewrite     bypass post-rewrite hook\n",
      "    --post-rewrite        opposite of --no-post-rewrite\n",
      "    -u, --[no-]untracked-files[=<mode>]\n",
      "                          show untracked files, optional modes: all, normal, no. (Default: all)\n",
      "    --[no-]pathspec-from-file <file>\n",
      "                          read pathspec from file\n",
      "    --[no-]pathspec-file-nul\n",
      "                          with --pathspec-from-file, pathspec elements are separated with NUL character\n",
      "\n"
     ]
    }
   ],
   "source": [
    "!git commit -help"
   ]
  },
  {
   "cell_type": "code",
   "execution_count": 38,
   "id": "15a72ec0-7b44-4add-9f3e-9fd7342bd7a2",
   "metadata": {},
   "outputs": [
    {
     "name": "stdout",
     "output_type": "stream",
     "text": [
      "* \u001b[32mV1\u001b[m\n",
      "  main\u001b[m\n"
     ]
    }
   ],
   "source": [
    "!git branch"
   ]
  },
  {
   "cell_type": "code",
   "execution_count": 36,
   "id": "2008093d-4699-4405-934d-6d9bd553327c",
   "metadata": {},
   "outputs": [
    {
     "name": "stdout",
     "output_type": "stream",
     "text": [
      "M\t.ipynb_checkpoints/1.GIT-checkpoint.ipynb\n",
      "M\t1.GIT.ipynb\n",
      "Your branch is up to date with 'origin/V1'.\n"
     ]
    }
   ],
   "source": [
    "!git checkout"
   ]
  },
  {
   "cell_type": "code",
   "execution_count": 44,
   "id": "d5dcc214-6d6e-43ab-844d-899da30da0cb",
   "metadata": {},
   "outputs": [
    {
     "name": "stdout",
     "output_type": "stream",
     "text": [
      "M\t.ipynb_checkpoints/1.GIT-checkpoint.ipynb\n",
      "M\t1.GIT.ipynb\n",
      "Switched to branch 'main'\n",
      "Your branch is up to date with 'origin/main'.\n",
      "  V1\u001b[m\n",
      "* \u001b[32mmain\u001b[m\n"
     ]
    }
   ],
   "source": [
    "!git checkout main\n",
    "!git branch"
   ]
  },
  {
   "cell_type": "code",
   "execution_count": 46,
   "id": "7101450d-4346-45f5-bb0a-02fc21992d0d",
   "metadata": {},
   "outputs": [
    {
     "name": "stdout",
     "output_type": "stream",
     "text": [
      "M\t.ipynb_checkpoints/1.GIT-checkpoint.ipynb\n",
      "M\t1.GIT.ipynb\n",
      "Switched to branch 'V1'\n",
      "Your branch is up to date with 'origin/V1'.\n",
      "* \u001b[32mV1\u001b[m\n",
      "  main\u001b[m\n"
     ]
    }
   ],
   "source": [
    "!git checkout V1\n",
    "!git branch"
   ]
  },
  {
   "cell_type": "code",
   "execution_count": 48,
   "id": "92132baf-6915-4bc4-9358-4cd1dc65d43d",
   "metadata": {},
   "outputs": [
    {
     "name": "stdout",
     "output_type": "stream",
     "text": [
      "On branch V1\n",
      "Your branch is up to date with 'origin/V1'.\n",
      "\n",
      "nothing to commit, working tree clean\n"
     ]
    }
   ],
   "source": [
    "!git status"
   ]
  },
  {
   "cell_type": "code",
   "execution_count": 50,
   "id": "58da0a3a-d168-4a7f-8224-7a61c197cec1",
   "metadata": {},
   "outputs": [
    {
     "name": "stdout",
     "output_type": "stream",
     "text": [
      "1.GIT.ipynb  README.md\n"
     ]
    }
   ],
   "source": [
    "ls"
   ]
  },
  {
   "cell_type": "code",
   "execution_count": 54,
   "id": "730cdb4e-ab42-4aca-aa75-657e41d59fa9",
   "metadata": {},
   "outputs": [
    {
     "name": "stdout",
     "output_type": "stream",
     "text": [
      "error: Your local changes to the following files would be overwritten by checkout:\n",
      "\t.ipynb_checkpoints/1.GIT-checkpoint.ipynb\n",
      "\t1.GIT.ipynb\n",
      "Please commit your changes or stash them before you switch branches.\n",
      "Aborting\n"
     ]
    }
   ],
   "source": [
    "!git checkout main\n",
    "\n"
   ]
  },
  {
   "cell_type": "code",
   "execution_count": null,
   "id": "e5dedadd-7f91-494b-a87e-0abd8e99f7ac",
   "metadata": {},
   "outputs": [],
   "source": [
    "!git merge V1\n",
    "\n",
    "!git branch"
   ]
  }
 ],
 "metadata": {
  "kernelspec": {
   "display_name": "Python 3 (ipykernel)",
   "language": "python",
   "name": "python3"
  },
  "language_info": {
   "codemirror_mode": {
    "name": "ipython",
    "version": 3
   },
   "file_extension": ".py",
   "mimetype": "text/x-python",
   "name": "python",
   "nbconvert_exporter": "python",
   "pygments_lexer": "ipython3",
   "version": "3.11.7"
  }
 },
 "nbformat": 4,
 "nbformat_minor": 5
}
